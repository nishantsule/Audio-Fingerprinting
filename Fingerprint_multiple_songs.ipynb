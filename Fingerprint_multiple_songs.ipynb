{
 "cells": [
  {
   "cell_type": "code",
   "execution_count": null,
   "metadata": {},
   "outputs": [],
   "source": [
    "# Import relevant packages\n",
    "\n",
    "from bokeh.io import output_notebook\n",
    "import warnings\n",
    "import sys\n",
    "import AudioFP as afp\n",
    "\n",
    "warnings.filterwarnings('ignore')\n",
    "output_notebook()"
   ]
  },
  {
   "cell_type": "code",
   "execution_count": null,
   "metadata": {},
   "outputs": [],
   "source": [
    "# Parameters for tuning the Audiofingerprinting algorithm\n",
    "\n",
    "# Parameters used in generating spectrogram\n",
    "#----------------------------------\n",
    "afp.nperseg = 16 * 256  # window size\n",
    "afp.overlap_ratio = 0.4  # degree of overlap, larger number->more overlap, denser fingerprint\n",
    "#----------------------------------\n",
    "\n",
    "# Parameters used in finding local peaks\n",
    "#-------------------------\n",
    "afp.min_peak_sep = 15  # larger sep -> less peaks -> less accuracy, but faster fingerprinting\n",
    "afp.min_peak_amp = 10  # larger min amp -> less peaks -> less accuracy, but faster fingerprinting\n",
    "#-------------------------\n",
    "\n",
    "# Parameters used in generating fingerprint\n",
    "#------------------------------\n",
    "afp.peak_connectivity = 15  # Number of neighboring peaks to use as target for each anchor\n",
    "afp.peak_time_delta_min = 0  # Minimum spacing in time between peaks for anchor and target\n",
    "afp.peak_time_delta_max = 200  # Maximum spacing in time between peaks for anchor and target\n",
    "#------------------------------"
   ]
  },
  {
   "cell_type": "code",
   "execution_count": null,
   "metadata": {},
   "outputs": [],
   "source": [
    "num_songs = int(input('Enter number of songs you want to fingerprint: '))\n",
    "afp_objs = [afp.AudioFP() for i in range(num_songs)]"
   ]
  },
  {
   "cell_type": "code",
   "execution_count": null,
   "metadata": {},
   "outputs": [],
   "source": []
  }
 ],
 "metadata": {
  "kernelspec": {
   "display_name": "Python 3",
   "language": "python",
   "name": "python3"
  },
  "language_info": {
   "codemirror_mode": {
    "name": "ipython",
    "version": 3
   },
   "file_extension": ".py",
   "mimetype": "text/x-python",
   "name": "python",
   "nbconvert_exporter": "python",
   "pygments_lexer": "ipython3",
   "version": "3.6.2"
  }
 },
 "nbformat": 4,
 "nbformat_minor": 2
}
