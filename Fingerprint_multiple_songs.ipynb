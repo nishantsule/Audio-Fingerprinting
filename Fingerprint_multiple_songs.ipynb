{
 "cells": [
  {
   "cell_type": "markdown",
   "metadata": {},
   "source": [
    "## Fingerprint multiple songs "
   ]
  },
  {
   "cell_type": "markdown",
   "metadata": {},
   "source": [
    "This notebook allows you to use the AudioFP class to fingerprint multiple songs."
   ]
  },
  {
   "cell_type": "code",
   "execution_count": null,
   "metadata": {},
   "outputs": [],
   "source": [
    "# Import relevant packages\n",
    "\n",
    "from bokeh.io import output_notebook\n",
    "import warnings\n",
    "import sys\n",
    "import AudioFP as afp\n",
    "import os\n",
    "\n",
    "warnings.filterwarnings('ignore')\n",
    "output_notebook()"
   ]
  },
  {
   "cell_type": "markdown",
   "metadata": {},
   "source": [
    "### Fingerprinting in a loop\n",
    "\n",
    "Read all the files from the `songs` directory, generate audio fingerprints for all the tracks, and save their fingerprints as a `.pkl` object to the same directory."
   ]
  },
  {
   "cell_type": "code",
   "execution_count": null,
   "metadata": {},
   "outputs": [],
   "source": [
    "mypath = os.getcwd() + '/songs'\n",
    "all_files = next(os.walk(mypath))[2]\n",
    "songfiles = []\n",
    "for file in all_files:\n",
    "    name, extension = file.rsplit('.', 1)\n",
    "    if extension == 'mp3':\n",
    "        songfiles.append(os.getcwd() + '/songs/' + name)\n",
    "num_songs = len(songfiles)\n",
    "afp_objs = [afp.AudioFP(process='m') for i in range(num_songs)]\n",
    "index = 0\n",
    "for song in afp_objs:\n",
    "    channels, framerate = afp.AudioFP.read_audiofile(song, False, songfiles[index])\n",
    "    f, t, sgram = afp.AudioFP.generate_spectrogram(song, False, channels, framerate)\n",
    "    fp, tp, peaks = afp.AudioFP.find_peaks(song, False, f, t, sgram)\n",
    "    fp = afp.AudioFP.generate_fingerprint(song, False, fp, tp, peaks)\n",
    "    afp.AudioFP.save_fingerprint(song)\n",
    "    index += 1"
   ]
  },
  {
   "cell_type": "code",
   "execution_count": null,
   "metadata": {},
   "outputs": [],
   "source": []
  }
 ],
 "metadata": {
  "kernelspec": {
   "display_name": "Python 3",
   "language": "python",
   "name": "python3"
  },
  "language_info": {
   "codemirror_mode": {
    "name": "ipython",
    "version": 3
   },
   "file_extension": ".py",
   "mimetype": "text/x-python",
   "name": "python",
   "nbconvert_exporter": "python",
   "pygments_lexer": "ipython3",
   "version": "3.6.2"
  }
 },
 "nbformat": 4,
 "nbformat_minor": 2
}
