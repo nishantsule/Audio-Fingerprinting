{
 "cells": [
  {
   "cell_type": "code",
   "execution_count": null,
   "metadata": {},
   "outputs": [],
   "source": [
    "import numpy as np\n",
    "import matplotlib.pyplot as plt\n",
    "%matplotlib notebook\n",
    "from pydub import AudioSegment\n",
    "from pydub.playback import play"
   ]
  },
  {
   "cell_type": "code",
   "execution_count": null,
   "metadata": {},
   "outputs": [],
   "source": [
    "class AudioFP():\n",
    "    def __init__(self):\n",
    "        self.songname = []\n",
    "        \n",
    "        ## Reading audio file using pydub\n",
    "    def read_audiofile(self):\n",
    "        self.songname = input(\"Enter filename: \")\n",
    "    #     self.songname = \"Choc--Eigenvalue-Subspace-Decomposition.mp3\"\n",
    "        audiofile = AudioSegment.from_file(self.songname)\n",
    "        self.songdata = np.frombuffer(audiofile._data, np.int16)\n",
    "        self.channels = []\n",
    "        for chn in range(audiofile.channels):\n",
    "            self.channels.append(self.songdata[chn::audiofile.channels])\n",
    "        self.framerate = audiofile.frame_rate"
   ]
  },
  {
   "cell_type": "code",
   "execution_count": null,
   "metadata": {},
   "outputs": [],
   "source": [
    "song1 = AudioFP()\n",
    "song1.read_audiofile()"
   ]
  }
 ],
 "metadata": {
  "kernelspec": {
   "display_name": "Python 3",
   "language": "python",
   "name": "python3"
  },
  "language_info": {
   "codemirror_mode": {
    "name": "ipython",
    "version": 3
   },
   "file_extension": ".py",
   "mimetype": "text/x-python",
   "name": "python",
   "nbconvert_exporter": "python",
   "pygments_lexer": "ipython3",
   "version": "3.6.2"
  }
 },
 "nbformat": 4,
 "nbformat_minor": 2
}
