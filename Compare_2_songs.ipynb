{
 "cells": [
  {
   "cell_type": "code",
   "execution_count": null,
   "metadata": {},
   "outputs": [],
   "source": [
    "# Import relevant packages\n",
    "\n",
    "from bokeh.io import output_notebook\n",
    "import warnings\n",
    "import sys\n",
    "import AudioFP as afp\n",
    "\n",
    "warnings.filterwarnings('ignore')\n",
    "output_notebook()"
   ]
  },
  {
   "cell_type": "code",
   "execution_count": null,
   "metadata": {},
   "outputs": [],
   "source": [
    "# Parameters for tuning the Audiofingerprinting algorithm\n",
    "\n",
    "# Parameters used in generating spectrogram\n",
    "#----------------------------------\n",
    "afp.nperseg = 16 * 256  # window size\n",
    "afp.overlap_ratio = 0.4  # degree of overlap, larger number->more overlap, denser fingerprint\n",
    "#----------------------------------\n",
    "\n",
    "# Parameters used in finding local peaks\n",
    "#-------------------------\n",
    "afp.min_peak_sep = 15  # larger sep -> less peaks -> less accuracy, but faster fingerprinting\n",
    "afp.min_peak_amp = 10  # larger min amp -> less peaks -> less accuracy, but faster fingerprinting\n",
    "#-------------------------\n",
    "\n",
    "# Parameters used in generating fingerprint\n",
    "#------------------------------\n",
    "afp.peak_connectivity = 15  # Number of neighboring peaks to use as target for each anchor\n",
    "afp.peak_time_delta_min = 0  # Minimum spacing in time between peaks for anchor and target\n",
    "afp.peak_time_delta_max = 200  # Maximum spacing in time between peaks for anchor and target\n",
    "#------------------------------"
   ]
  },
  {
   "cell_type": "code",
   "execution_count": null,
   "metadata": {},
   "outputs": [],
   "source": [
    "# Compare fingerprints of two songs \n",
    "\n",
    "def compare_fingerprints(s1, s2):\n",
    "    jac_sim = s1.fingerprint.jaccard(s2.fingerprint)\n",
    "    if jac_sim >= 0.9:\n",
    "        print('{} and {} are identical!'.format(s1.songname, s2.songname))\n",
    "        print('Jaccard similarity = ', jac_sim)\n",
    "    elif jac_sim >= 0.1 and jac_sim < 0.9:\n",
    "        print('{} and {} are quite similar'.format(s1.songname, s2.songname))\n",
    "        print('Jaccard similarity = ', jac_sim)\n",
    "    elif jac_sim >= 0.05 and jac_sim < 0.1:\n",
    "        print('{} and {} might have some similarity'.format(s1.songname, s2.songname))\n",
    "        print('Jaccard similarity = ', jac_sim)\n",
    "    else:\n",
    "        print('{} and {} are different'.format(s1.songname, s2.songname))\n",
    "        print('Jaccard similarity = ', jac_sim)"
   ]
  },
  {
   "cell_type": "code",
   "execution_count": null,
   "metadata": {
    "scrolled": false
   },
   "outputs": [],
   "source": [
    "# Create AudioFP object for first song\n",
    "song1 = afp.AudioFP()"
   ]
  },
  {
   "cell_type": "code",
   "execution_count": null,
   "metadata": {
    "scrolled": false
   },
   "outputs": [],
   "source": [
    "# Create AudioFP object for second song\n",
    "song2 = afp.AudioFP()"
   ]
  },
  {
   "cell_type": "code",
   "execution_count": null,
   "metadata": {},
   "outputs": [],
   "source": [
    "# Compare the fingerprints to check their similarity\n",
    "compare_fingerprints(song1, song2)"
   ]
  },
  {
   "cell_type": "code",
   "execution_count": null,
   "metadata": {},
   "outputs": [],
   "source": []
  }
 ],
 "metadata": {
  "kernelspec": {
   "display_name": "Python 3",
   "language": "python",
   "name": "python3"
  },
  "language_info": {
   "codemirror_mode": {
    "name": "ipython",
    "version": 3
   },
   "file_extension": ".py",
   "mimetype": "text/x-python",
   "name": "python",
   "nbconvert_exporter": "python",
   "pygments_lexer": "ipython3",
   "version": "3.6.2"
  }
 },
 "nbformat": 4,
 "nbformat_minor": 2
}
