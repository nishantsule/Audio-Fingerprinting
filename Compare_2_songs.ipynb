{
 "cells": [
  {
   "cell_type": "markdown",
   "metadata": {},
   "source": [
    "## Comparing two songs"
   ]
  },
  {
   "cell_type": "markdown",
   "metadata": {},
   "source": [
    "We demonstrate how you can compare two audio signals for similarity using audio fingerprinting. We make use of the AudioFP class. To understand the basic steps in audio fingerprinting, go through the notebook titled \"How_Audiofingerprinting_works\""
   ]
  },
  {
   "cell_type": "code",
   "execution_count": null,
   "metadata": {},
   "outputs": [],
   "source": [
    "# Import relevant packages\n",
    "\n",
    "from bokeh.io import output_notebook\n",
    "import warnings\n",
    "import sys\n",
    "import AudioFP as afp\n",
    "\n",
    "warnings.filterwarnings('ignore')\n",
    "output_notebook()"
   ]
  },
  {
   "cell_type": "markdown",
   "metadata": {},
   "source": [
    "### Setting parameters\n",
    "\n",
    "The parameters below can be used to tune the audio fingerprinting algorithm. "
   ]
  },
  {
   "cell_type": "code",
   "execution_count": null,
   "metadata": {},
   "outputs": [],
   "source": [
    "# Parameters for tuning the Audiofingerprinting algorithm\n",
    "\n",
    "# Parameters used in generating spectrogram\n",
    "#----------------------------------\n",
    "afp.nperseg = 16 * 256  # window size\n",
    "afp.overlap_ratio = 0.4  # degree of overlap, larger number->more overlap, denser fingerprint\n",
    "#----------------------------------\n",
    "\n",
    "# Parameters used in finding local peaks\n",
    "#-------------------------\n",
    "afp.min_peak_sep = 15  # larger sep -> less peaks -> less accuracy, but faster fingerprinting\n",
    "afp.min_peak_amp = 10  # larger min amp -> less peaks -> less accuracy, but faster fingerprinting\n",
    "#-------------------------\n",
    "\n",
    "# Parameters used in generating fingerprint\n",
    "#------------------------------\n",
    "afp.peak_connectivity = 15  # Number of neighboring peaks to use as target for each anchor\n",
    "afp.peak_time_delta_min = 0  # Minimum spacing in time between peaks for anchor and target\n",
    "afp.peak_time_delta_max = 200  # Maximum spacing in time between peaks for anchor and target\n",
    "#------------------------------"
   ]
  },
  {
   "cell_type": "markdown",
   "metadata": {},
   "source": [
    "### Fingerprinting two songs\n",
    "\n",
    "We will first generate the audio fingerprints for two songs. When prompted, enter \"a\" to automatically run through all the functions that will generate the fingerprints."
   ]
  },
  {
   "cell_type": "code",
   "execution_count": null,
   "metadata": {
    "scrolled": false
   },
   "outputs": [],
   "source": [
    "# Create AudioFP object for first song\n",
    "song1 = afp.AudioFP()"
   ]
  },
  {
   "cell_type": "code",
   "execution_count": null,
   "metadata": {
    "scrolled": false
   },
   "outputs": [],
   "source": [
    "# Create AudioFP object for second song\n",
    "song2 = afp.AudioFP()"
   ]
  },
  {
   "cell_type": "markdown",
   "metadata": {},
   "source": [
    "### Comparing fingerprints\n",
    "\n",
    "For comparing two fingerprints, we will calculate what is known as the Jaccard similarity. Jaccard similarity, mathematically is the size of the intersection divided by the size of the union between two givent sets. Thus, two identical sets would have a Jaccard similarity index of 1 while entirely dissimilar sets would result in 0. However, there isnt any specific rule for identifying similarity between sets that result in a number between 0 and 1. One would have to use [bootstrapping] (https://en.wikipedia.org/wiki/Bootstrapping_(statistics)) to determine the extent of similarity of an arbitrary similarity score. Below, we have used some ranges based on some intuition using a small set of songs. The function \"compare_fingerprints\" is defined in the AudioFP class. If you want to see how the ranges are defined, take a look at the file AudioFP.py"
   ]
  },
  {
   "cell_type": "code",
   "execution_count": null,
   "metadata": {},
   "outputs": [],
   "source": [
    "# Compare the fingerprints to check their similarity\n",
    "compare_fingerprints(song1, song2)"
   ]
  },
  {
   "cell_type": "code",
   "execution_count": null,
   "metadata": {},
   "outputs": [],
   "source": []
  }
 ],
 "metadata": {
  "kernelspec": {
   "display_name": "Python 3",
   "language": "python",
   "name": "python3"
  },
  "language_info": {
   "codemirror_mode": {
    "name": "ipython",
    "version": 3
   },
   "file_extension": ".py",
   "mimetype": "text/x-python",
   "name": "python",
   "nbconvert_exporter": "python",
   "pygments_lexer": "ipython3",
   "version": "3.6.2"
  }
 },
 "nbformat": 4,
 "nbformat_minor": 2
}
